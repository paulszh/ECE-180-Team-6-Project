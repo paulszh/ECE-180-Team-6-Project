{
 "cells": [
  {
   "cell_type": "code",
   "execution_count": 143,
   "metadata": {},
   "outputs": [],
   "source": [
    "#####open file#####\n",
    "import csv\n",
    "def openfile(filename):\n",
    "    content = []\n",
    "    with open(filename, 'r') as csvfile:\n",
    "        r = csv.reader(csvfile)\n",
    "        for row in r:\n",
    "            content.append(row)\n",
    "    return content"
   ]
  },
  {
   "cell_type": "code",
   "execution_count": 144,
   "metadata": {
    "collapsed": true
   },
   "outputs": [],
   "source": [
    "sources = ['../Data/City_Zri_AllHomes.csv', \n",
    "           '../Data/Zip_Zri_AllHomes.csv',\n",
    "           '../Data/Zip_Zhvi_AllHomes.csv',\n",
    "           '../Data/City_Zhvi_AllHomes.csv']"
   ]
  },
  {
   "cell_type": "code",
   "execution_count": 145,
   "metadata": {},
   "outputs": [],
   "source": [
    "import collections as c\n",
    "datafiles = c.defaultdict(list)\n",
    "for source in sources:\n",
    "    datafiles[source] = openfile(source)"
   ]
  },
  {
   "cell_type": "code",
   "execution_count": 146,
   "metadata": {},
   "outputs": [
    {
     "data": {
      "text/plain": [
       "dict_keys(['../Data/City_Zri_AllHomes.csv', '../Data/Zip_Zri_AllHomes.csv', '../Data/Zip_Zhvi_AllHomes.csv', '../Data/City_Zhvi_AllHomes.csv'])"
      ]
     },
     "execution_count": 146,
     "metadata": {},
     "output_type": "execute_result"
    }
   ],
   "source": [
    "datafiles.keys()"
   ]
  },
  {
   "cell_type": "code",
   "execution_count": 147,
   "metadata": {
    "collapsed": true
   },
   "outputs": [],
   "source": [
    "def get_month_keys(keys):\n",
    "    return keys[-70:]\n",
    "\n",
    "def get_attr(keys):\n",
    "    return keys[:6]"
   ]
  },
  {
   "cell_type": "code",
   "execution_count": 148,
   "metadata": {},
   "outputs": [
    {
     "data": {
      "text/plain": [
       "dict_keys(['../Data/City_Zri_AllHomes.csv', '../Data/Zip_Zri_AllHomes.csv', '../Data/Zip_Zhvi_AllHomes.csv', '../Data/City_Zhvi_AllHomes.csv'])"
      ]
     },
     "execution_count": 148,
     "metadata": {},
     "output_type": "execute_result"
    }
   ],
   "source": [
    "datafiles.keys()"
   ]
  },
  {
   "cell_type": "code",
   "execution_count": 149,
   "metadata": {},
   "outputs": [],
   "source": [
    "months = get_month_keys(datafiles['../Data/City_Zri_AllHomes.csv'][0])\n",
    "attr = get_attr(datafiles['../Data/Zip_Zhvi_AllHomes.csv'][0])\n",
    "keys= attr + months"
   ]
  },
  {
   "cell_type": "code",
   "execution_count": 150,
   "metadata": {},
   "outputs": [],
   "source": [
    "def form_list(keys, content, index = 6):\n",
    "    ls = []\n",
    "    print(keys[:index])\n",
    "    for line in content:\n",
    "        temp= {}\n",
    "        for key, val in zip(keys[:index], (line[:index])):\n",
    "            temp[key] = val\n",
    "        for key, val in zip(keys[index:], (line[-70:])):\n",
    "            temp[key] = val\n",
    "        ls.append(temp)\n",
    "    return ls"
   ]
  },
  {
   "cell_type": "code",
   "execution_count": 151,
   "metadata": {
    "collapsed": true
   },
   "outputs": [],
   "source": [
    "# form dictioanries of necessary attributes\n",
    "def preprocess_data(keys, datafiles):\n",
    "    dataset = {}\n",
    "    for i in datafiles:\n",
    "        print(i)\n",
    "        dataset[i] = form_list(keys, datafiles[i][1:])\n",
    "    return dataset"
   ]
  },
  {
   "cell_type": "code",
   "execution_count": 152,
   "metadata": {},
   "outputs": [
    {
     "name": "stdout",
     "output_type": "stream",
     "text": [
      "../Data/City_Zri_AllHomes.csv\n",
      "['RegionID', 'RegionName', 'City', 'State', 'Metro', 'CountyName']\n",
      "../Data/Zip_Zri_AllHomes.csv\n",
      "['RegionID', 'RegionName', 'City', 'State', 'Metro', 'CountyName']\n",
      "../Data/Zip_Zhvi_AllHomes.csv\n",
      "['RegionID', 'RegionName', 'City', 'State', 'Metro', 'CountyName']\n",
      "../Data/City_Zhvi_AllHomes.csv\n",
      "['RegionID', 'RegionName', 'City', 'State', 'Metro', 'CountyName']\n"
     ]
    }
   ],
   "source": [
    "dataset = preprocess_data(keys, datafiles)"
   ]
  },
  {
   "cell_type": "code",
   "execution_count": 153,
   "metadata": {},
   "outputs": [],
   "source": [
    "######## convert string to floats for the rent,\n",
    "def astype_float(dataset, months):\n",
    "    for i in dataset:\n",
    "        ls = dataset[i]\n",
    "        for d in ls:\n",
    "            for m in months:\n",
    "                if d[m]=='':\n",
    "                    #print([months.index(m)])\n",
    "                    d[m] = float(d[months[months.index(m)-1]])\n",
    "                else:\n",
    "                    d[m] = float(d[m])\n",
    "    return dataset"
   ]
  },
  {
   "cell_type": "code",
   "execution_count": 154,
   "metadata": {},
   "outputs": [],
   "source": [
    "dataset = astype_float(dataset, months)"
   ]
  },
  {
   "cell_type": "code",
   "execution_count": 155,
   "metadata": {},
   "outputs": [
    {
     "data": {
      "text/plain": [
       "['../Data/City_Zri_AllHomes.csv',\n",
       " '../Data/Zip_Zri_AllHomes.csv',\n",
       " '../Data/Zip_Zhvi_AllHomes.csv',\n",
       " '../Data/City_Zhvi_AllHomes.csv']"
      ]
     },
     "execution_count": 155,
     "metadata": {},
     "output_type": "execute_result"
    }
   ],
   "source": [
    "sources"
   ]
  },
  {
   "cell_type": "code",
   "execution_count": 156,
   "metadata": {},
   "outputs": [],
   "source": [
    "def get_data(category, dataset, s = sources):\n",
    "    if category == 'zip_rent':\n",
    "        return dataset[s[1]]\n",
    "    elif category == 'zip_home':\n",
    "        return dataset[s[2]]\n",
    "    elif category == 'city_home':\n",
    "        return dataset[s[3]]\n",
    "    else:\n",
    "        return dataset[s[0]]"
   ]
  },
  {
   "cell_type": "code",
   "execution_count": 120,
   "metadata": {},
   "outputs": [],
   "source": [
    "#############check the rent change over months for oher cities ############\n",
    "import numpy as np\n",
    "def calc_average(name, dataset, m = months, excludes = 'San Diego'):\n",
    "\n",
    "    month_average = []\n",
    "    for month in m:\n",
    "        #month_average[month] = np.mean([i[month] for i in data if i['CountyName'] != 'San Diego'])\n",
    "        month_average.append(np.mean([i[month] for i in get_data(name, dataset) if i['City'] != excludes]))\n",
    "    return month_average"
   ]
  },
  {
   "cell_type": "code",
   "execution_count": 121,
   "metadata": {
    "collapsed": true
   },
   "outputs": [],
   "source": [
    "home_month_average = calc_average('zip_home', dataset)\n",
    "rent_month_average = calc_average('zip_rent', dataset)"
   ]
  },
  {
   "cell_type": "code",
   "execution_count": 109,
   "metadata": {
    "collapsed": true
   },
   "outputs": [],
   "source": [
    "# record areas\n"
   ]
  },
  {
   "cell_type": "code",
   "execution_count": 113,
   "metadata": {
    "collapsed": true
   },
   "outputs": [],
   "source": [
    "def get_plotdata(name, county, dataset, s = source, selection_zip = sd):\n",
    "    data = get_data(name, dataset)\n",
    "    target_areas = [d for d in data if d['City'] == county and int(d['RegionName']) in selection_zip]\n",
    "    \n",
    "    target_index = [data.index(d) for d in target_areas]\n",
    "    target_months = [[d[month] for month in months] for d in target_areas]\n",
    "    return target_areas, target_months, target_index\n",
    "    "
   ]
  },
  {
   "cell_type": "code",
   "execution_count": 122,
   "metadata": {},
   "outputs": [],
   "source": [
    "##### form data of san diego areas from the dataset\n",
    "sd_areas, sd_months, sd_indices = get_plotdata('zip_home', 'San Diego', dataset)\n",
    "sd_areas_rent, sd_months_rent, sd_indices_rent = get_plotdata('zip_rent', 'San Diego', dataset)"
   ]
  },
  {
   "cell_type": "code",
   "execution_count": 117,
   "metadata": {
    "collapsed": true
   },
   "outputs": [],
   "source": [
    "def plot_month_price(name, target_areas, target_months, target_index, month_average, m = months):\n",
    "    plt.title('average %s with months in cities in USA vs. San Diego'%name)\n",
    "    r = month_average\n",
    "    x = range(len(m))\n",
    "    plt.plot(x,r,'bo')\n",
    "    legend = []\n",
    "    for i in target_months:\n",
    "        pid = target_areas[target_months.index(i)]['RegionName']\n",
    "        plt.plot(x,i,label=pid)\n",
    "    #plt.legend(handles = legend)\n",
    "    plt.legend(bbox_to_anchor=(1.05, 1), loc=2, borderaxespad=0.)\n",
    "    i_min = r.index(min(r))\n",
    "    i_max = r.index(max(r))\n",
    "    plt.plot(i_min, min(r), marker = 's')\n",
    "    plt.plot(i_max, max(r), marker = 's')\n",
    "    frame = plt.gca()\n",
    "    ### hide the x values\n",
    "    frame.axes.get_xaxis().set_ticks([])\n",
    "    plt.xlabel(\"months from 2012 to 2018\")\n",
    "    plt.ylabel(\"average %s of other cities vs san diego\"%name)\n",
    "    plt.show()"
   ]
  },
  {
   "cell_type": "code",
   "execution_count": 123,
   "metadata": {},
   "outputs": [
    {
     "data": {
      "image/png": "[encoded data removed]",
      "text/plain": [
       "<matplotlib.figure.Figure at 0x1a2790ba8>"
      ]
     },
     "metadata": {},
     "output_type": "display_data"
    },
    {
     "data": {
      "image/png": "[encoded data removed]",
      "text/plain": [
       "<matplotlib.figure.Figure at 0x1a2928cc0>"
      ]
     },
     "metadata": {},
     "output_type": "display_data"
    }
   ],
   "source": [
    "plot_month_price('home val', sd_areas, sd_months, sd_indices, home_month_average)\n",
    "plot_month_price('rent', sd_areas_rent, sd_months_rent, sd_indices_rent, rent_month_average)"
   ]
  },
  {
   "cell_type": "code",
   "execution_count": null,
   "metadata": {
    "collapsed": true
   },
   "outputs": [],
   "source": [
    "##################################################################"
   ]
  },
  {
   "cell_type": "code",
   "execution_count": 157,
   "metadata": {
    "collapsed": true
   },
   "outputs": [],
   "source": [
    "def getCounties(dataset, file):\n",
    "    data = get_data(file, dataset)\n",
    "    return list(set([d['CountyName'] for d in data]))"
   ]
  },
  {
   "cell_type": "code",
   "execution_count": 158,
   "metadata": {
    "collapsed": true
   },
   "outputs": [],
   "source": [
    "counties = getCounties(dataset, 'zip_rent')"
   ]
  },
  {
   "cell_type": "code",
   "execution_count": 159,
   "metadata": {},
   "outputs": [
    {
     "data": {
      "text/plain": [
       "1244"
      ]
     },
     "execution_count": 159,
     "metadata": {},
     "output_type": "execute_result"
    }
   ],
   "source": [
    "len(counties)"
   ]
  },
  {
   "cell_type": "code",
   "execution_count": 167,
   "metadata": {
    "collapsed": true
   },
   "outputs": [],
   "source": [
    "def formNewData(file, dataset, m = months, c = counties):\n",
    "    data = get_data(file, dataset)\n",
    "    new_data=[]\n",
    "    for i in c:\n",
    "        temp = [d for d in data if d['CountyName'] == i]\n",
    "        rent = sum([d[months[-1]] for d in temp])/len(temp)\n",
    "        new_data.append({'CountyName': i, 'Rent': rent})\n",
    "    return new_data"
   ]
  },
  {
   "cell_type": "code",
   "execution_count": 168,
   "metadata": {},
   "outputs": [],
   "source": [
    "new_data = formNewData('zip_rent', dataset)"
   ]
  },
  {
   "cell_type": "code",
   "execution_count": 170,
   "metadata": {},
   "outputs": [
    {
     "data": {
      "text/plain": [
       "1244"
      ]
     },
     "execution_count": 170,
     "metadata": {},
     "output_type": "execute_result"
    }
   ],
   "source": [
    "len(new_data)"
   ]
  },
  {
   "cell_type": "code",
   "execution_count": 162,
   "metadata": {},
   "outputs": [
    {
     "data": {
      "text/plain": [
       "dict_keys(['../Data/City_Zri_AllHomes.csv', '../Data/Zip_Zri_AllHomes.csv', '../Data/Zip_Zhvi_AllHomes.csv', '../Data/City_Zhvi_AllHomes.csv'])"
      ]
     },
     "execution_count": 162,
     "metadata": {},
     "output_type": "execute_result"
    }
   ],
   "source": [
    "dataset.keys()"
   ]
  },
  {
   "cell_type": "code",
   "execution_count": 163,
   "metadata": {
    "collapsed": true
   },
   "outputs": [],
   "source": [
    "targets = ['San Diego', 'New York', 'Santa Clara', 'San Francisco']"
   ]
  },
  {
   "cell_type": "code",
   "execution_count": 177,
   "metadata": {},
   "outputs": [],
   "source": [
    "def plot_counties(category, new_data, c_list, m = months):\n",
    "    selected_month1 = m[-1]\n",
    "    rent = [d['Rent'] for d in new_data]   \n",
    "    plt.plot(rent, 'yo')\n",
    "    ls  = []\n",
    "    for i in c_list:\n",
    "        ls.append([d for d in new_data if d['CountyName'] == i])\n",
    "\n",
    "    markers_on = [i[0] for i in ls] ## for san diego\n",
    "    legend=[]\n",
    "    for i,name in zip(markers_on, c_list):\n",
    "        plt.plot(new_data.index(i),rent[new_data.index(i)],  marker = '^', label = name)\n",
    "        legend.append(name)\n",
    "    plt.legend(bbox_to_anchor=(1.05, 1), loc=2, borderaxespad=0.)\n",
    "    plt.title('%s comparison among all recorded cities in USA for %s'%(category,selected_month1))\n",
    "    frame = plt.gca()\n",
    "    ### hide the x values\n",
    "    frame.axes.get_xaxis().set_ticks([])\n",
    "    plt.xlabel(\"all counties\")\n",
    "    plt.ylabel(\"average %s\"%category)\n",
    "    plt.show()\n",
    "    ######\n",
    "    # we can see from the graph that san diego's rent prize is not very high"
   ]
  },
  {
   "cell_type": "code",
   "execution_count": 178,
   "metadata": {},
   "outputs": [
    {
     "data": {
      "image/png": "[encoded data removed]",
      "text/plain": [
       "<matplotlib.figure.Figure at 0x1c9780978>"
      ]
     },
     "metadata": {},
     "output_type": "display_data"
    }
   ],
   "source": [
    "plot_counties('zip_rent', new_data, targets)"
   ]
  },
  {
   "cell_type": "code",
   "execution_count": null,
   "metadata": {
    "collapsed": true
   },
   "outputs": [],
   "source": []
  }
 ],
 "metadata": {
  "kernelspec": {
   "display_name": "Python 3",
   "language": "python",
   "name": "python3"
  },
  "language_info": {
   "codemirror_mode": {
    "name": "ipython",
    "version": 3
   },
   "file_extension": ".py",
   "mimetype": "text/x-python",
   "name": "python",
   "nbconvert_exporter": "python",
   "pygments_lexer": "ipython3",
   "version": "3.6.3"
  }
 },
 "nbformat": 4,
 "nbformat_minor": 2
}
